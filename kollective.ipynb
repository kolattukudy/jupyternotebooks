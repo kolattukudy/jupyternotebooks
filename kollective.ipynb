{
  "nbformat": 4,
  "nbformat_minor": 0,
  "metadata": {
    "colab": {
      "name": "kollective.ipynb",
      "provenance": [],
      "collapsed_sections": [],
      "include_colab_link": true
    },
    "kernelspec": {
      "name": "python3",
      "display_name": "Python 3"
    },
    "language_info": {
      "name": "python"
    }
  },
  "cells": [
    {
      "cell_type": "markdown",
      "metadata": {
        "id": "view-in-github",
        "colab_type": "text"
      },
      "source": [
        "<a href=\"https://colab.research.google.com/github/kolattukudy/jupyternotebooks/blob/master/kollective.ipynb\" target=\"_parent\"><img src=\"https://colab.research.google.com/assets/colab-badge.svg\" alt=\"Open In Colab\"/></a>"
      ]
    },
    {
      "cell_type": "code",
      "metadata": {
        "id": "of7Y-Xx81mHu"
      },
      "source": [
        "import pandas as pd\n",
        "from tqdm import tqdm\n",
        "import csv\n",
        "import random\n",
        "import string\n",
        "from datetime import datetime\n",
        "import time"
      ],
      "execution_count": null,
      "outputs": []
    },
    {
      "cell_type": "markdown",
      "metadata": {
        "id": "ujL5g-GPuLMV"
      },
      "source": [
        "\n",
        "  •\tt : timestamp\t\t(the time of the transfer)\n",
        "\t•\ttype : [origin|peer]\t(whether the transfer was from a peer or from origin)\n",
        "\t•\tsize: int4\t\t(the size, in bytes, of the downloaded content)\n",
        "\t•\tduration : int4\t(the duration in milliseconds that it took for the transfer to complete)\n",
        "\t•\tsource_id: string\t(for peer transfers, a UUID for the peer/coworker.  Null for origin transfers)\n",
        "\t•\tdest_id: string\t(a UUID for the viewer who is downloading the video stream)\n",
        "\n",
        "\n",
        "\n",
        " "
      ]
    },
    {
      "cell_type": "code",
      "metadata": {
        "colab": {
          "base_uri": "https://localhost:8080/",
          "height": 393
        },
        "id": "tvc9me0Teqz3",
        "outputId": "d6f7bcf1-5276-494d-f99b-1e9c7c41f31d"
      },
      "source": [
        "import typing as tp\n",
        "import numpy\n",
        "\n",
        "class Transfer:\n",
        "    def __init__(\n",
        "        self,\n",
        "        t: tp.Optional[int] = None,\n",
        "        type: tp.Optional[str]  = None,\n",
        "        source_id: tp.Optional[str] = None,\n",
        "        size: int = 1,\n",
        "        duration: tp.Optional[int] = None,\n",
        "        dest_id: tp.Optional[str] = None,\n",
        "    ):\n",
        "        self.t = t\n",
        "        self.type= type\n",
        "        self.source_id = source_id\n",
        "        self.size = size\n",
        "        self.duration = duration\n",
        "        self.dest_id = dest_id\n",
        "\n",
        "    def to_dict(self) -> dict:\n",
        "        return {\n",
        "            \"t\" : self.t,\n",
        "            \"type\": self.type,\n",
        "\n",
        "            \"source_id\": self.source_id,\n",
        "            \"size\":self.size,\n",
        "            \"duration\": self.duration,\n",
        "            \"dest_id\": self.dest_id,\n",
        "        }\n",
        "def get_time_list(period):\n",
        "  datelist = pd.date_range(datetime.today(), periods=period).tolist()\n",
        "  #datelist\n",
        "  time_list=[]\n",
        "  for t in datelist:\n",
        "    \n",
        "    time_list.append(int(round(t.timestamp()*1000)))\n",
        "  return time_list\n",
        "\n",
        "def get_tranfer_df(no_records,percentage_peer, no_src_id):\n",
        "\n",
        "  transfers = tqdm([Transfer() for i in range(no_records)] )\n",
        "  transfers_list =[]\n",
        "  p=[percentage_peer, (100- percentage_peer)]\n",
        "  p[:] = [x / 100 for x in p]\n",
        "\n",
        "  nums = numpy.random.choice([0, 1], size=no_records, p=p)\n",
        "  no_src_id =2\n",
        "  src_ids=numpy.random.choice(no_records, no_src_id, replace=True)\n",
        "  for idx,t in enumerate(transfers):\n",
        "    type_val = 'peer' if nums[idx] == 0 else 'origin'\n",
        "\n",
        "    source_id = random.choice(src_ids)if type_val=='peer'  else ''\n",
        "\n",
        "    if type_val == 'peer':\n",
        "      t.duration = random.randrange(0.5*100, 1*100, 2)\n",
        "    else:\n",
        "      t.duration = random.randrange(3*100, 4*100, 2)\n",
        "\n",
        "    time_list= get_time_list(no_records)\n",
        "  \n",
        "    t.t = random.choice(time_list)\n",
        "    t.type = type_val\n",
        "    dest_ids=numpy.random.choice(no_records, no_src_id, replace=True)\n",
        "\n",
        "    t.dest_id = random.choice(dest_ids)\n",
        "    t.size = random.randrange(1*1024, 10*1024, 2)\n",
        "    t.source_id = source_id\n",
        "    transfers_list.append(t)\n",
        "\n",
        "  transfer_dicts = [transfer.to_dict() for transfer in transfers_list]\n",
        "  df = pd.DataFrame(transfer_dicts)\n",
        "  return df\n",
        "\n",
        "df = get_tranfer_df(10,80, 5)\n",
        "df.head(10)"
      ],
      "execution_count": null,
      "outputs": [
        {
          "output_type": "stream",
          "text": [
            "\n",
            "100%|██████████| 10/10 [00:00<00:00, 837.20it/s]\n"
          ],
          "name": "stderr"
        },
        {
          "output_type": "execute_result",
          "data": {
            "text/html": [
              "<div>\n",
              "<style scoped>\n",
              "    .dataframe tbody tr th:only-of-type {\n",
              "        vertical-align: middle;\n",
              "    }\n",
              "\n",
              "    .dataframe tbody tr th {\n",
              "        vertical-align: top;\n",
              "    }\n",
              "\n",
              "    .dataframe thead th {\n",
              "        text-align: right;\n",
              "    }\n",
              "</style>\n",
              "<table border=\"1\" class=\"dataframe\">\n",
              "  <thead>\n",
              "    <tr style=\"text-align: right;\">\n",
              "      <th></th>\n",
              "      <th>t</th>\n",
              "      <th>type</th>\n",
              "      <th>source_id</th>\n",
              "      <th>size</th>\n",
              "      <th>duration</th>\n",
              "      <th>dest_id</th>\n",
              "    </tr>\n",
              "  </thead>\n",
              "  <tbody>\n",
              "    <tr>\n",
              "      <th>0</th>\n",
              "      <td>1626552349958</td>\n",
              "      <td>peer</td>\n",
              "      <td>7</td>\n",
              "      <td>6944</td>\n",
              "      <td>60</td>\n",
              "      <td>7</td>\n",
              "    </tr>\n",
              "    <tr>\n",
              "      <th>1</th>\n",
              "      <td>1626984349960</td>\n",
              "      <td>peer</td>\n",
              "      <td>7</td>\n",
              "      <td>4092</td>\n",
              "      <td>82</td>\n",
              "      <td>4</td>\n",
              "    </tr>\n",
              "    <tr>\n",
              "      <th>2</th>\n",
              "      <td>1626638749961</td>\n",
              "      <td>origin</td>\n",
              "      <td></td>\n",
              "      <td>6168</td>\n",
              "      <td>310</td>\n",
              "      <td>4</td>\n",
              "    </tr>\n",
              "    <tr>\n",
              "      <th>3</th>\n",
              "      <td>1626897949962</td>\n",
              "      <td>peer</td>\n",
              "      <td>7</td>\n",
              "      <td>9730</td>\n",
              "      <td>82</td>\n",
              "      <td>3</td>\n",
              "    </tr>\n",
              "    <tr>\n",
              "      <th>4</th>\n",
              "      <td>1626465949963</td>\n",
              "      <td>peer</td>\n",
              "      <td>3</td>\n",
              "      <td>7366</td>\n",
              "      <td>66</td>\n",
              "      <td>9</td>\n",
              "    </tr>\n",
              "    <tr>\n",
              "      <th>5</th>\n",
              "      <td>1626897949964</td>\n",
              "      <td>peer</td>\n",
              "      <td>7</td>\n",
              "      <td>6514</td>\n",
              "      <td>84</td>\n",
              "      <td>9</td>\n",
              "    </tr>\n",
              "    <tr>\n",
              "      <th>6</th>\n",
              "      <td>1626811549966</td>\n",
              "      <td>origin</td>\n",
              "      <td></td>\n",
              "      <td>4822</td>\n",
              "      <td>374</td>\n",
              "      <td>7</td>\n",
              "    </tr>\n",
              "    <tr>\n",
              "      <th>7</th>\n",
              "      <td>1626552349966</td>\n",
              "      <td>peer</td>\n",
              "      <td>3</td>\n",
              "      <td>4294</td>\n",
              "      <td>62</td>\n",
              "      <td>6</td>\n",
              "    </tr>\n",
              "    <tr>\n",
              "      <th>8</th>\n",
              "      <td>1626379549967</td>\n",
              "      <td>peer</td>\n",
              "      <td>7</td>\n",
              "      <td>7608</td>\n",
              "      <td>94</td>\n",
              "      <td>2</td>\n",
              "    </tr>\n",
              "    <tr>\n",
              "      <th>9</th>\n",
              "      <td>1626552349968</td>\n",
              "      <td>origin</td>\n",
              "      <td></td>\n",
              "      <td>2116</td>\n",
              "      <td>368</td>\n",
              "      <td>8</td>\n",
              "    </tr>\n",
              "  </tbody>\n",
              "</table>\n",
              "</div>"
            ],
            "text/plain": [
              "               t    type source_id  size  duration  dest_id\n",
              "0  1626552349958    peer         7  6944        60        7\n",
              "1  1626984349960    peer         7  4092        82        4\n",
              "2  1626638749961  origin            6168       310        4\n",
              "3  1626897949962    peer         7  9730        82        3\n",
              "4  1626465949963    peer         3  7366        66        9\n",
              "5  1626897949964    peer         7  6514        84        9\n",
              "6  1626811549966  origin            4822       374        7\n",
              "7  1626552349966    peer         3  4294        62        6\n",
              "8  1626379549967    peer         7  7608        94        2\n",
              "9  1626552349968  origin            2116       368        8"
            ]
          },
          "metadata": {
            "tags": []
          },
          "execution_count": 22
        }
      ]
    },
    {
      "cell_type": "code",
      "metadata": {
        "colab": {
          "base_uri": "https://localhost:8080/",
          "height": 34
        },
        "id": "wh7BgG8-Ohea",
        "outputId": "d20fecc4-a41f-43fa-9f29-54916d0e43e6"
      },
      "source": [
        "from google.colab import files\n",
        "\n",
        "df.to_csv('transfer.csv')\n",
        "files.download('transfer.csv')"
      ],
      "execution_count": null,
      "outputs": [
        {
          "output_type": "display_data",
          "data": {
            "application/javascript": [
              "\n",
              "    async function download(id, filename, size) {\n",
              "      if (!google.colab.kernel.accessAllowed) {\n",
              "        return;\n",
              "      }\n",
              "      const div = document.createElement('div');\n",
              "      const label = document.createElement('label');\n",
              "      label.textContent = `Downloading \"${filename}\": `;\n",
              "      div.appendChild(label);\n",
              "      const progress = document.createElement('progress');\n",
              "      progress.max = size;\n",
              "      div.appendChild(progress);\n",
              "      document.body.appendChild(div);\n",
              "\n",
              "      const buffers = [];\n",
              "      let downloaded = 0;\n",
              "\n",
              "      const channel = await google.colab.kernel.comms.open(id);\n",
              "      // Send a message to notify the kernel that we're ready.\n",
              "      channel.send({})\n",
              "\n",
              "      for await (const message of channel.messages) {\n",
              "        // Send a message to notify the kernel that we're ready.\n",
              "        channel.send({})\n",
              "        if (message.buffers) {\n",
              "          for (const buffer of message.buffers) {\n",
              "            buffers.push(buffer);\n",
              "            downloaded += buffer.byteLength;\n",
              "            progress.value = downloaded;\n",
              "          }\n",
              "        }\n",
              "      }\n",
              "      const blob = new Blob(buffers, {type: 'application/binary'});\n",
              "      const a = document.createElement('a');\n",
              "      a.href = window.URL.createObjectURL(blob);\n",
              "      a.download = filename;\n",
              "      div.appendChild(a);\n",
              "      a.click();\n",
              "      div.remove();\n",
              "    }\n",
              "  "
            ],
            "text/plain": [
              "<IPython.core.display.Javascript object>"
            ]
          },
          "metadata": {
            "tags": []
          }
        },
        {
          "output_type": "display_data",
          "data": {
            "application/javascript": [
              "download(\"download_f4741931-a730-4c96-9311-0752b2203eab\", \"transfer.csv\", 376)"
            ],
            "text/plain": [
              "<IPython.core.display.Javascript object>"
            ]
          },
          "metadata": {
            "tags": []
          }
        }
      ]
    },
    {
      "cell_type": "code",
      "metadata": {
        "colab": {
          "base_uri": "https://localhost:8080/",
          "height": 204
        },
        "id": "caXoEpsyU2yM",
        "outputId": "2d8e5c17-82f5-43d0-87cb-c095b303051a"
      },
      "source": [
        "df['percentage'] = (df[df['type']== 'peer']['size'] / df['size'].sum()) * 100\n",
        "df.head(5)"
      ],
      "execution_count": null,
      "outputs": [
        {
          "output_type": "execute_result",
          "data": {
            "text/html": [
              "<div>\n",
              "<style scoped>\n",
              "    .dataframe tbody tr th:only-of-type {\n",
              "        vertical-align: middle;\n",
              "    }\n",
              "\n",
              "    .dataframe tbody tr th {\n",
              "        vertical-align: top;\n",
              "    }\n",
              "\n",
              "    .dataframe thead th {\n",
              "        text-align: right;\n",
              "    }\n",
              "</style>\n",
              "<table border=\"1\" class=\"dataframe\">\n",
              "  <thead>\n",
              "    <tr style=\"text-align: right;\">\n",
              "      <th></th>\n",
              "      <th>t</th>\n",
              "      <th>type</th>\n",
              "      <th>source_id</th>\n",
              "      <th>size</th>\n",
              "      <th>duration</th>\n",
              "      <th>dest_id</th>\n",
              "      <th>percentage</th>\n",
              "    </tr>\n",
              "  </thead>\n",
              "  <tbody>\n",
              "    <tr>\n",
              "      <th>0</th>\n",
              "      <td>1626552349958</td>\n",
              "      <td>peer</td>\n",
              "      <td>7</td>\n",
              "      <td>6944</td>\n",
              "      <td>60</td>\n",
              "      <td>7</td>\n",
              "      <td>11.640460</td>\n",
              "    </tr>\n",
              "    <tr>\n",
              "      <th>1</th>\n",
              "      <td>1626984349960</td>\n",
              "      <td>peer</td>\n",
              "      <td>7</td>\n",
              "      <td>4092</td>\n",
              "      <td>82</td>\n",
              "      <td>4</td>\n",
              "      <td>6.859557</td>\n",
              "    </tr>\n",
              "    <tr>\n",
              "      <th>2</th>\n",
              "      <td>1626638749961</td>\n",
              "      <td>origin</td>\n",
              "      <td></td>\n",
              "      <td>6168</td>\n",
              "      <td>310</td>\n",
              "      <td>4</td>\n",
              "      <td>NaN</td>\n",
              "    </tr>\n",
              "    <tr>\n",
              "      <th>3</th>\n",
              "      <td>1626897949962</td>\n",
              "      <td>peer</td>\n",
              "      <td>7</td>\n",
              "      <td>9730</td>\n",
              "      <td>82</td>\n",
              "      <td>3</td>\n",
              "      <td>16.310725</td>\n",
              "    </tr>\n",
              "    <tr>\n",
              "      <th>4</th>\n",
              "      <td>1626465949963</td>\n",
              "      <td>peer</td>\n",
              "      <td>3</td>\n",
              "      <td>7366</td>\n",
              "      <td>66</td>\n",
              "      <td>9</td>\n",
              "      <td>12.347873</td>\n",
              "    </tr>\n",
              "  </tbody>\n",
              "</table>\n",
              "</div>"
            ],
            "text/plain": [
              "               t    type source_id  size  duration  dest_id  percentage\n",
              "0  1626552349958    peer         7  6944        60        7   11.640460\n",
              "1  1626984349960    peer         7  4092        82        4    6.859557\n",
              "2  1626638749961  origin            6168       310        4         NaN\n",
              "3  1626897949962    peer         7  9730        82        3   16.310725\n",
              "4  1626465949963    peer         3  7366        66        9   12.347873"
            ]
          },
          "metadata": {
            "tags": []
          },
          "execution_count": 24
        }
      ]
    },
    {
      "cell_type": "code",
      "metadata": {
        "colab": {
          "base_uri": "https://localhost:8080/",
          "height": 295
        },
        "id": "TshrExD1vf98",
        "outputId": "bc143805-6bc7-4796-d36e-a99cc58a1b80"
      },
      "source": [
        "#How much bandwidth was saved for the customer?  (peer bytes / total bytes)\n",
        "\n",
        "df.plot(kind='bar', x='size', y='percentage');\n"
      ],
      "execution_count": null,
      "outputs": [
        {
          "output_type": "display_data",
          "data": {
            "image/png": "[encoded data removed]",
            "text/plain": [
              "<Figure size 432x288 with 1 Axes>"
            ]
          },
          "metadata": {
            "tags": [],
            "needs_background": "light"
          }
        }
      ]
    },
    {
      "cell_type": "code",
      "metadata": {
        "colab": {
          "base_uri": "https://localhost:8080/",
          "height": 283
        },
        "id": "L_aMP1TX54i6",
        "outputId": "14b2aa45-f06d-4838-d216-c74e554193eb"
      },
      "source": [
        "#How did transfer durations between peer and origin compare?\n",
        "import pandas as pd\n",
        "import seaborn as sns\n",
        "\n",
        "\n",
        "x, y, hue = \"size\", \"duration\", \"type\"\n",
        "hue_order = [\"peer\", \"origin\"]\n",
        "\n",
        "(df[x]\n",
        " .groupby(df[hue])\n",
        " .value_counts(normalize=True)\n",
        " .rename(y)\n",
        " .reset_index()\n",
        " .pipe((sns.barplot, \"data\"), x=x, y=y, hue=hue));"
      ],
      "execution_count": null,
      "outputs": [
        {
          "output_type": "display_data",
          "data": {
            "image/png": "[encoded data removed]",
            "text/plain": [
              "<Figure size 432x288 with 1 Axes>"
            ]
          },
          "metadata": {
            "tags": [],
            "needs_background": "light"
          }
        }
      ]
    },
    {
      "cell_type": "code",
      "metadata": {
        "colab": {
          "base_uri": "https://localhost:8080/",
          "height": 265
        },
        "id": "kyU_XQllRBZS",
        "outputId": "d257f774-58a5-4560-e30e-f35b6ff98db9"
      },
      "source": [
        "#How much bandwidth was consumed over time (Mbps)?\n",
        "import matplotlib.pyplot as plt\n",
        "fig, ax = plt.subplots()\n",
        "df['duration'].cumsum().plot( kind=\"line\")\n",
        "df[df['type']== 'peer']['duration'].cumsum().plot(kind=\"line\")\n",
        "df[df['type']== 'origin']['duration'].cumsum().plot(kind='line')\n",
        "ax.legend([\"total\", \"peer\",\"origin\"]);"
      ],
      "execution_count": null,
      "outputs": [
        {
          "output_type": "display_data",
          "data": {
            "image/png": "[encoded data removed]",
            "text/plain": [
              "<Figure size 432x288 with 1 Axes>"
            ]
          },
          "metadata": {
            "tags": [],
            "needs_background": "light"
          }
        }
      ]
    },
    {
      "cell_type": "markdown",
      "metadata": {
        "id": "FClLy-v-Xjw1"
      },
      "source": [
        "**SQL**"
      ]
    },
    {
      "cell_type": "code",
      "metadata": {
        "id": "7phzVki_XpcZ"
      },
      "source": [
        "\n",
        "\n",
        "CREATE DATABASE kollective;\n",
        "\n",
        "CREATE TABLE transfer (\n",
        "    t  TIMESTAMP,\n",
        "    type char(6)  NOT NULL,\n",
        "    size int(100)  NOT NULL,\n",
        "    duration int(100)  NOT NULL,\n",
        "    source_id char(20),\n",
        "    dest_id  char(20) NOT NULL,\n",
        "    PRIMARY KEY  (dest_id)\n",
        ");\n",
        "\n",
        "\n",
        "CREATE INDEX idx_transfer\n",
        "ON transfer (t, duration);"
      ],
      "execution_count": null,
      "outputs": []
    },
    {
      "cell_type": "code",
      "metadata": {
        "id": "3i8H4IiEbBGo"
      },
      "source": [
        "\t#2.\tHow might you get your dataset from python into SQL?\n",
        "   \n",
        "  # use df.to_sql(connection to databse)\n",
        "\n",
        "  #or \n",
        "\n",
        "  # save the dataframe as csv and load csv to sql.\n"
      ],
      "execution_count": null,
      "outputs": []
    },
    {
      "cell_type": "code",
      "metadata": {
        "id": "Ql9oic86bQd2"
      },
      "source": [
        "\t#3.\tCreate a schema for a second table called node.  \n",
        "CREATE TABLE node (\n",
        "    id char(20)  NOT NULL,\n",
        "    name char(128)  NOT NULL,\n",
        "    office char(128)  NOT NULL,\n",
        "    \n",
        "    PRIMARY KEY  (id)\n",
        ");\n"
      ],
      "execution_count": null,
      "outputs": []
    },
    {
      "cell_type": "code",
      "metadata": {
        "id": "bUQECYDjbjmS"
      },
      "source": [
        "#\t4.\tWrite a query that shows how many bytes one employee downloaded from \n",
        "# another.  e.g.:\n",
        "\n",
        "#a.\tBob downloaded 100MB from Carol\n",
        "#b.\tBob downloaded 80MB from Joe\n",
        "\n",
        "select\n",
        "v.name as viewer_name,\n",
        "t.size,\n",
        "h.name as host_name\n",
        "from transfer t\n",
        "join node as h on t.dest_id = h.id\n",
        "join node as v on t.source_id = v.id;\n",
        "\n"
      ],
      "execution_count": null,
      "outputs": []
    },
    {
      "cell_type": "code",
      "metadata": {
        "id": "030f6VNebwxx"
      },
      "source": [
        "#5.\tWrite a query that shows who downloaded bytes from someone in another office, e.g.:\n",
        "#a.\tBob (Boston HQ) downloaded bytes from Carol (Chicago Branch)\n",
        "\n",
        "select\n",
        "v.name as viewer_name,v.office as viewer_office,\n",
        "t.size,\n",
        "h.name as host_name,h.office as host_office\n",
        "from transfer t\n",
        "join node as h on t.dest_id = h.id\n",
        "join node as v on t.source_id = v.id;\n",
        "\n"
      ],
      "execution_count": null,
      "outputs": []
    }
  ]
}