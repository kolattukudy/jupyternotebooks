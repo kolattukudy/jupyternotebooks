{
 "cells": [
  {
   "cell_type": "markdown",
   "metadata": {},
   "source": [
    "# How to lookup for a particular transaction on a bank statement and then add them up.  \n",
    "\n",
    "First we will import the data as csv, then lookup the transactions based on a description keyword. The csv file looked like this\n"
   ]
  },
  {
   "cell_type": "markdown",
   "metadata": {},
   "source": [
    "Date\",\"Description\",\"Comments\",\"Check Number\",\"Amount\",\"Balance\"\n",
    "\n",
    "\"05/06/2016\",\"GOLDEN STATE WTR   ONLINE PMT  ID  1061291316 CO  GOLDEN STATE WTR   ACH ECC WEB   ACH Trace 042000011342940\",\"\",\"\",\"($126.41)\",\"$6,618.45\"\n",
    "\"05/09/2016\",\"AMEX EPAYMENT   ACH PMT  ID  0005000008 CO  AMEX EPAYMENT   ACH ECC WEB   ACH Trace 091000034739514\",\"\",\"\",\"($1,973.58)\",\"$4,644.87\"\n"
   ]
  },
  {
   "cell_type": "code",
   "execution_count": 136,
   "metadata": {
    "collapsed": false
   },
   "outputs": [
    {
     "data": {
      "text/html": [
       "<div>\n",
       "<table border=\"1\" class=\"dataframe\">\n",
       "  <thead>\n",
       "    <tr style=\"text-align: right;\">\n",
       "      <th></th>\n",
       "      <th>Date</th>\n",
       "      <th>Description</th>\n",
       "      <th>Comments</th>\n",
       "      <th>Check Number</th>\n",
       "      <th>Amount</th>\n",
       "      <th>Balance</th>\n",
       "    </tr>\n",
       "  </thead>\n",
       "  <tbody>\n",
       "    <tr>\n",
       "      <th>0</th>\n",
       "      <td>05/06/2016</td>\n",
       "      <td>GOLDEN STATE WTR   ONLINE PMT  ID  1061291316 ...</td>\n",
       "      <td>NaN</td>\n",
       "      <td>NaN</td>\n",
       "      <td>($126.41)</td>\n",
       "      <td>$6,618.45</td>\n",
       "    </tr>\n",
       "    <tr>\n",
       "      <th>1</th>\n",
       "      <td>05/09/2016</td>\n",
       "      <td>AMEX EPAYMENT   ACH PMT  ID  0005000008 CO  AM...</td>\n",
       "      <td>NaN</td>\n",
       "      <td>NaN</td>\n",
       "      <td>($1,973.58)</td>\n",
       "      <td>$4,644.87</td>\n",
       "    </tr>\n",
       "  </tbody>\n",
       "</table>\n",
       "</div>"
      ],
      "text/plain": [
       "         Date                                        Description  Comments  \\\n",
       "0  05/06/2016  GOLDEN STATE WTR   ONLINE PMT  ID  1061291316 ...       NaN   \n",
       "1  05/09/2016  AMEX EPAYMENT   ACH PMT  ID  0005000008 CO  AM...       NaN   \n",
       "\n",
       "   Check Number       Amount    Balance  \n",
       "0           NaN    ($126.41)  $6,618.45  \n",
       "1           NaN  ($1,973.58)  $4,644.87  "
      ]
     },
     "execution_count": 136,
     "metadata": {},
     "output_type": "execute_result"
    }
   ],
   "source": [
    "import pandas as pd\n",
    "df = pandas.read_csv('/Users/boneyjose/Downloads/dl 139020_0003565564-S0220170525.csv')\n",
    "df.head(2)"
   ]
  },
  {
   "cell_type": "code",
   "execution_count": 127,
   "metadata": {
    "collapsed": false
   },
   "outputs": [],
   "source": [
    "df_transaction=df[df['Description'].str.contains(\"CITI\")]\n"
   ]
  },
  {
   "cell_type": "code",
   "execution_count": 128,
   "metadata": {
    "collapsed": false
   },
   "outputs": [],
   "source": [
    "df_amount=df_transaction.loc[:,('Amount')]"
   ]
  },
  {
   "cell_type": "markdown",
   "metadata": {},
   "source": [
    "Convert all currency formated values to a float value"
   ]
  },
  {
   "cell_type": "code",
   "execution_count": 129,
   "metadata": {
    "collapsed": false
   },
   "outputs": [
    {
     "data": {
      "text/plain": [
       "3     1478.07\n",
       "6     1488.08\n",
       "11    1478.05\n",
       "Name: Amount, dtype: object"
      ]
     },
     "execution_count": 129,
     "metadata": {},
     "output_type": "execute_result"
    }
   ],
   "source": [
    "df_amount = df_amount.str.replace(',', '')\n",
    "df_amount = df_amount.str.replace('$', '')\n",
    "df_amount.head(3)"
   ]
  },
  {
   "cell_type": "markdown",
   "metadata": {},
   "source": [
    "Convert the String values to Float"
   ]
  },
  {
   "cell_type": "code",
   "execution_count": 130,
   "metadata": {
    "collapsed": false
   },
   "outputs": [
    {
     "data": {
      "text/plain": [
       "3     1478.07\n",
       "6     1488.08\n",
       "11    1478.05\n",
       "Name: Amount, dtype: float64"
      ]
     },
     "execution_count": 130,
     "metadata": {},
     "output_type": "execute_result"
    }
   ],
   "source": [
    "dfclean = df_amount.astype(float)\n",
    "dfclean.head(3)"
   ]
  },
  {
   "cell_type": "markdown",
   "metadata": {},
   "source": [
    " Now add them up."
   ]
  },
  {
   "cell_type": "code",
   "execution_count": 131,
   "metadata": {
    "collapsed": false
   },
   "outputs": [
    {
     "data": {
      "text/plain": [
       "39590.27"
      ]
     },
     "execution_count": 131,
     "metadata": {},
     "output_type": "execute_result"
    }
   ],
   "source": [
    "dfclean.sum()"
   ]
  },
  {
   "cell_type": "code",
   "execution_count": null,
   "metadata": {
    "collapsed": true
   },
   "outputs": [],
   "source": []
  }
 ],
 "metadata": {
  "kernelspec": {
   "display_name": "Python [default]",
   "language": "python",
   "name": "python3"
  },
  "language_info": {
   "codemirror_mode": {
    "name": "ipython",
    "version": 3
   },
   "file_extension": ".py",
   "mimetype": "text/x-python",
   "name": "python",
   "nbconvert_exporter": "python",
   "pygments_lexer": "ipython3",
   "version": "3.5.2"
  }
 },
 "nbformat": 4,
 "nbformat_minor": 1
}
