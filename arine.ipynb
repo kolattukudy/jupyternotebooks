{
  "nbformat": 4,
  "nbformat_minor": 0,
  "metadata": {
    "colab": {
      "name": "arine.ipynb",
      "provenance": [],
      "collapsed_sections": [],
      "mount_file_id": "1mtGU51AeIPUzLdBDI-uz_dojncNn8SRD",
      "authorship_tag": "ABX9TyMxTgwuSkR5AWjfkbBplO5I",
      "include_colab_link": true
    },
    "kernelspec": {
      "name": "python3",
      "display_name": "Python 3"
    },
    "language_info": {
      "name": "python"
    }
  },
  "cells": [
    {
      "cell_type": "markdown",
      "metadata": {
        "id": "view-in-github",
        "colab_type": "text"
      },
      "source": [
        "<a href=\"https://colab.research.google.com/github/kolattukudy/jupyternotebooks/blob/master/arine.ipynb\" target=\"_parent\"><img src=\"https://colab.research.google.com/assets/colab-badge.svg\" alt=\"Open In Colab\"/></a>"
      ]
    },
    {
      "cell_type": "code",
      "metadata": {
        "colab": {
          "base_uri": "https://localhost:8080/"
        },
        "id": "VDu1ZXsSzxig",
        "outputId": "d3e1b4a0-bc02-4129-d9d1-cd5a4f4d6c04"
      },
      "source": [
        "from google.colab import drive\n",
        "drive.mount('/content/drive')\n",
        "\n",
        "!ls \"/content/drive/MyDrive/adata\""
      ],
      "execution_count": 229,
      "outputs": [
        {
          "output_type": "stream",
          "text": [
            "Drive already mounted at /content/drive; to attempt to forcibly remount, call drive.mount(\"/content/drive\", force_remount=True).\n",
            "claims\tenrollment.csv\tndc9_lookup.json  patient_ID29057550656.json\n"
          ],
          "name": "stdout"
        }
      ]
    },
    {
      "cell_type": "code",
      "metadata": {
        "id": "-hCbmBJvznq_"
      },
      "source": [
        "import pandas as pd"
      ],
      "execution_count": 230,
      "outputs": []
    },
    {
      "cell_type": "code",
      "metadata": {
        "colab": {
          "base_uri": "https://localhost:8080/"
        },
        "id": "cDN_9_ta0_Za",
        "outputId": "2bc79723-eeab-479d-ab41-a340d415cb24"
      },
      "source": [
        "#How many patients were enrolled in the program as of July 1st, 2020?\n",
        "\n",
        "e_df = pd.read_csv(\"/content/drive/MyDrive/adata/enrollment.csv\")\n",
        "min_date=min(e_df['enrollment_start_date'])\n",
        "filter_by_date = e_df[(e_df['enrollment_end_date'] > min_date) & (e_df['enrollment_end_date'] < '2020-07-01')]\n",
        "filter_by_date ['card_id'].nunique()"
      ],
      "execution_count": 231,
      "outputs": [
        {
          "output_type": "execute_result",
          "data": {
            "text/plain": [
              "2106"
            ]
          },
          "metadata": {
            "tags": []
          },
          "execution_count": 231
        }
      ]
    },
    {
      "cell_type": "code",
      "metadata": {
        "colab": {
          "base_uri": "https://localhost:8080/"
        },
        "id": "wdkIBQfU33hO",
        "outputId": "14e9db39-fb47-4ba5-cc8c-0438486c74c2"
      },
      "source": [
        "!ls \"/content/drive/MyDrive/adata/claims\""
      ],
      "execution_count": 232,
      "outputs": [
        {
          "output_type": "stream",
          "text": [
            "pharmacy_claims_2020-03-11.csv\tpharmacy_claims_2020-06-05.csv\n",
            "pharmacy_claims_2020-04-30.csv\tpharmacy_claims_2020-07-03.csv\n",
            "pharmacy_claims_2020-05-15.csv\n"
          ],
          "name": "stdout"
        }
      ]
    },
    {
      "cell_type": "code",
      "metadata": {
        "id": "6n-amW7Z1UH8"
      },
      "source": [
        "#Step 2 - Load the pharmacy claims\n",
        "import glob\n",
        "files = glob.glob(\"/content/drive/MyDrive/adata/claims/*.csv\")\n",
        "claims_df = pd.DataFrame()\n",
        "for f in files:\n",
        "    csv = pd.read_csv(f)\n",
        "    claims_df = claims_df.append(csv)\n",
        "\n",
        "#claims_df.head(5)"
      ],
      "execution_count": 233,
      "outputs": []
    },
    {
      "cell_type": "code",
      "metadata": {
        "colab": {
          "base_uri": "https://localhost:8080/"
        },
        "id": "2d5McBA2V3gi",
        "outputId": "37a1c85b-f474-47d4-8cac-cff308af65c7"
      },
      "source": [
        "#number of rows\n",
        "claims_df.size\n"
      ],
      "execution_count": 234,
      "outputs": [
        {
          "output_type": "execute_result",
          "data": {
            "text/plain": [
              "299624"
            ]
          },
          "metadata": {
            "tags": []
          },
          "execution_count": 234
        }
      ]
    },
    {
      "cell_type": "code",
      "metadata": {
        "id": "95w1aTPQ3Bc3"
      },
      "source": [
        "#Step 3 - Clean and prepare pharmacy claims\n",
        "claims_df = claims_df[['allowed_amount','card_id','claim_number','claim_line_number','fill_date','ndc_11','claim_status','days_supply']]\n",
        "\n"
      ],
      "execution_count": 235,
      "outputs": []
    },
    {
      "cell_type": "code",
      "metadata": {
        "id": "5SAV9KbuzH2n"
      },
      "source": [
        "\n",
        "#filter out denied claims and group \n",
        "status = ['PAID','REVERSAL']\n",
        "claims_f_df=claims_df[claims_df.claim_status.isin(status)]\n",
        "\n",
        "claim_gp_df=claims_f_df.groupby(['card_id','claim_number','ndc_11','fill_date'])['days_supply'].agg(['sum'])\n",
        "#claim_gp_df.head(5)"
      ],
      "execution_count": 236,
      "outputs": []
    },
    {
      "cell_type": "code",
      "metadata": {
        "colab": {
          "base_uri": "https://localhost:8080/"
        },
        "id": "T521pO3HiOlJ",
        "outputId": "50a78a43-1f91-47dc-af8c-9db25d287226"
      },
      "source": [
        "claim_reset_df=claim_gp_df.reset_index()\n",
        "claim_reset_df.size"
      ],
      "execution_count": 237,
      "outputs": [
        {
          "output_type": "execute_result",
          "data": {
            "text/plain": [
              "19650"
            ]
          },
          "metadata": {
            "tags": []
          },
          "execution_count": 237
        }
      ]
    },
    {
      "cell_type": "code",
      "metadata": {
        "colab": {
          "base_uri": "https://localhost:8080/"
        },
        "id": "iHi7PI63jaqd",
        "outputId": "e3408dad-f2a8-48ef-9447-2af586147424"
      },
      "source": [
        "\n",
        "#Question 3: How many prepared claims do you have at the end of step 3?\n",
        "claim_reset_df.head(5)\n",
        "claim_gpf_df = claim_reset_df[claim_reset_df['sum'] != 0]\n",
        "claim_gpf_df.size"
      ],
      "execution_count": 238,
      "outputs": [
        {
          "output_type": "execute_result",
          "data": {
            "text/plain": [
              "19440"
            ]
          },
          "metadata": {
            "tags": []
          },
          "execution_count": 238
        }
      ]
    },
    {
      "cell_type": "code",
      "metadata": {
        "id": "U5wosiG9o3-L"
      },
      "source": [
        "claims_merge_df=claims_f_df.merge(claim_gpf_df, how='inner', on=['card_id','claim_number','ndc_11','fill_date'])\n"
      ],
      "execution_count": 239,
      "outputs": []
    },
    {
      "cell_type": "code",
      "metadata": {
        "colab": {
          "base_uri": "https://localhost:8080/"
        },
        "id": "N1LZr-ZO2_lv",
        "outputId": "c929c927-678d-4682-932b-800cfeaf7121"
      },
      "source": [
        "\n",
        "#Step 4: Find the total days supply and amount allowed in the specified date range\n",
        "!ls \"/content/drive/MyDrive/adata/\""
      ],
      "execution_count": 240,
      "outputs": [
        {
          "output_type": "stream",
          "text": [
            "claims\tenrollment.csv\tndc9_lookup.json  patient_ID29057550656.json\n"
          ],
          "name": "stdout"
        }
      ]
    },
    {
      "cell_type": "code",
      "metadata": {
        "id": "u7QW8vH37vad"
      },
      "source": [
        "#load NDC data\n",
        "ndc_df=pd.read_json(\"/content/drive/MyDrive/adata/ndc9_lookup.json\")\n",
        "tdf=ndc_df.transpose()\n",
        "tdf['ndc9'] = tdf['ndc9'].replace('-', '', regex=True).astype(str)\n",
        "\n"
      ],
      "execution_count": 241,
      "outputs": []
    },
    {
      "cell_type": "code",
      "metadata": {
        "id": "K0p5JTglXDid"
      },
      "source": [
        "claims_merge_df['ndc9'] = claims_merge_df['ndc_11'].astype(str).str[:-2].astype(str)\n"
      ],
      "execution_count": 242,
      "outputs": []
    },
    {
      "cell_type": "code",
      "metadata": {
        "colab": {
          "base_uri": "https://localhost:8080/",
          "height": 142
        },
        "id": "VfEkLBR93WOC",
        "outputId": "ef36cac3-9244-4234-d4ef-affb37ad37cf"
      },
      "source": [
        "#Question 4: What is the highest amount_allowed? Which patient ?\n",
        "high_amount=claims_merge_df[claims_merge_df['allowed_amount']==claims_merge_df['allowed_amount'].max()]\n",
        "high_amount[['allowed_amount','card_id','ndc9']]"
      ],
      "execution_count": 243,
      "outputs": [
        {
          "output_type": "execute_result",
          "data": {
            "text/html": [
              "<div>\n",
              "<style scoped>\n",
              "    .dataframe tbody tr th:only-of-type {\n",
              "        vertical-align: middle;\n",
              "    }\n",
              "\n",
              "    .dataframe tbody tr th {\n",
              "        vertical-align: top;\n",
              "    }\n",
              "\n",
              "    .dataframe thead th {\n",
              "        text-align: right;\n",
              "    }\n",
              "</style>\n",
              "<table border=\"1\" class=\"dataframe\">\n",
              "  <thead>\n",
              "    <tr style=\"text-align: right;\">\n",
              "      <th></th>\n",
              "      <th>allowed_amount</th>\n",
              "      <th>card_id</th>\n",
              "      <th>ndc9</th>\n",
              "    </tr>\n",
              "  </thead>\n",
              "  <tbody>\n",
              "    <tr>\n",
              "      <th>3363</th>\n",
              "      <td>17660.53</td>\n",
              "      <td>82554696297</td>\n",
              "      <td>504190171</td>\n",
              "    </tr>\n",
              "    <tr>\n",
              "      <th>3364</th>\n",
              "      <td>17660.53</td>\n",
              "      <td>47290249924</td>\n",
              "      <td>504190171</td>\n",
              "    </tr>\n",
              "    <tr>\n",
              "      <th>3365</th>\n",
              "      <td>17660.53</td>\n",
              "      <td>27400762376</td>\n",
              "      <td>504190171</td>\n",
              "    </tr>\n",
              "  </tbody>\n",
              "</table>\n",
              "</div>"
            ],
            "text/plain": [
              "      allowed_amount      card_id       ndc9\n",
              "3363        17660.53  82554696297  504190171\n",
              "3364        17660.53  47290249924  504190171\n",
              "3365        17660.53  27400762376  504190171"
            ]
          },
          "metadata": {
            "tags": []
          },
          "execution_count": 243
        }
      ]
    },
    {
      "cell_type": "code",
      "metadata": {
        "colab": {
          "base_uri": "https://localhost:8080/",
          "height": 80
        },
        "id": "EYTfSgPhAU1x",
        "outputId": "142f6e84-3541-4fc7-a3f3-983edab338e3"
      },
      "source": [
        "#Question 4: What is the highest amount_allowed? Which patient and generic drug does it correspond to?\n",
        "generic_df=tdf[tdf['ndc9']=='504190171']\n",
        "generic_df[['id','genericName']]\n"
      ],
      "execution_count": 244,
      "outputs": [
        {
          "output_type": "execute_result",
          "data": {
            "text/html": [
              "<div>\n",
              "<style scoped>\n",
              "    .dataframe tbody tr th:only-of-type {\n",
              "        vertical-align: middle;\n",
              "    }\n",
              "\n",
              "    .dataframe tbody tr th {\n",
              "        vertical-align: top;\n",
              "    }\n",
              "\n",
              "    .dataframe thead th {\n",
              "        text-align: right;\n",
              "    }\n",
              "</style>\n",
              "<table border=\"1\" class=\"dataframe\">\n",
              "  <thead>\n",
              "    <tr style=\"text-align: right;\">\n",
              "      <th></th>\n",
              "      <th>id</th>\n",
              "      <th>genericName</th>\n",
              "    </tr>\n",
              "  </thead>\n",
              "  <tbody>\n",
              "    <tr>\n",
              "      <th>50419-0171</th>\n",
              "      <td>504190171</td>\n",
              "      <td>regorafenib</td>\n",
              "    </tr>\n",
              "  </tbody>\n",
              "</table>\n",
              "</div>"
            ],
            "text/plain": [
              "                   id  genericName\n",
              "50419-0171  504190171  regorafenib"
            ]
          },
          "metadata": {
            "tags": []
          },
          "execution_count": 244
        }
      ]
    },
    {
      "cell_type": "code",
      "metadata": {
        "id": "rLEyb2aXMala"
      },
      "source": [
        "#remove ID prefix\n",
        "e_df['card_id'] = e_df['card_id'].astype(str).str[2:].astype(int)\n",
        "#e_df.head(5)"
      ],
      "execution_count": 245,
      "outputs": []
    },
    {
      "cell_type": "code",
      "metadata": {
        "colab": {
          "base_uri": "https://localhost:8080/",
          "height": 100
        },
        "id": "nrJ1daCKNF4x",
        "outputId": "72076dbd-4a28-43d4-9ff3-f72c84dfa2ad"
      },
      "source": [
        "#Question 5: How many unique generic names for the patient Abe Lincoln?\n",
        "\n",
        "abe_df=e_df[(e_df['first_name'] == 'Abe') & (e_df['last_name'] == 'Lincoln')]\n",
        "abe_df\n"
      ],
      "execution_count": 246,
      "outputs": [
        {
          "output_type": "execute_result",
          "data": {
            "text/html": [
              "<div>\n",
              "<style scoped>\n",
              "    .dataframe tbody tr th:only-of-type {\n",
              "        vertical-align: middle;\n",
              "    }\n",
              "\n",
              "    .dataframe tbody tr th {\n",
              "        vertical-align: top;\n",
              "    }\n",
              "\n",
              "    .dataframe thead th {\n",
              "        text-align: right;\n",
              "    }\n",
              "</style>\n",
              "<table border=\"1\" class=\"dataframe\">\n",
              "  <thead>\n",
              "    <tr style=\"text-align: right;\">\n",
              "      <th></th>\n",
              "      <th>birth_date</th>\n",
              "      <th>card_id</th>\n",
              "      <th>enrollment_end_date</th>\n",
              "      <th>enrollment_start_date</th>\n",
              "      <th>first_name</th>\n",
              "      <th>gender</th>\n",
              "      <th>last_name</th>\n",
              "    </tr>\n",
              "  </thead>\n",
              "  <tbody>\n",
              "    <tr>\n",
              "      <th>2886</th>\n",
              "      <td>1961-03-05</td>\n",
              "      <td>62402817684</td>\n",
              "      <td>2999-12-31</td>\n",
              "      <td>2020-01-01</td>\n",
              "      <td>Abe</td>\n",
              "      <td>M</td>\n",
              "      <td>Lincoln</td>\n",
              "    </tr>\n",
              "  </tbody>\n",
              "</table>\n",
              "</div>"
            ],
            "text/plain": [
              "      birth_date      card_id enrollment_end_date  ... first_name gender last_name\n",
              "2886  1961-03-05  62402817684          2999-12-31  ...        Abe      M   Lincoln\n",
              "\n",
              "[1 rows x 7 columns]"
            ]
          },
          "metadata": {
            "tags": []
          },
          "execution_count": 246
        }
      ]
    },
    {
      "cell_type": "code",
      "metadata": {
        "id": "-qIUwNE4EwL3"
      },
      "source": [
        "#a. Only medication “fills” that occurred ​between Jan 1st, 2020 and June 30th, 2020 should be included in the summary\n",
        "claims_merge_df = claims_merge_df[claims_merge_df['fill_date'].notna()]\n",
        "claims_merge_df = claims_merge_df[(claims_merge_df['fill_date'] > '2020-01-01') & (claims_merge_df['fill_date'] < '2020-06-30')]"
      ],
      "execution_count": 247,
      "outputs": []
    },
    {
      "cell_type": "code",
      "metadata": {
        "id": "qmh2DoEZlyQC"
      },
      "source": [
        "#patient summary prep\n",
        "p_merge_df = e_df.merge(claims_merge_df, how = 'inner', on='card_id')\n",
        "tdf=tdf[['ndc9',\t'genericName']]\n",
        "p_data= p_merge_df[['card_id','first_name','last_name','allowed_amount','days_supply','sum','ndc9']]\n",
        "generic =pd.merge(p_data, tdf, left_on='ndc9', right_on='ndc9')\n",
        "#group_df=generic.groupby(['card_id'],as_index=True)\n",
        "#p_summary=group_df[['card_id','first_name','last_name','allowed_amount','days_supply','sum','genericName']]\n",
        "\n"
      ],
      "execution_count": 248,
      "outputs": []
    },
    {
      "cell_type": "code",
      "metadata": {
        "colab": {
          "base_uri": "https://localhost:8080/",
          "height": 235
        },
        "id": "R7YXFgZ25-bF",
        "outputId": "60fe2f98-c333-46f5-ad0c-acb7aa725d80"
      },
      "source": [
        "details = generic.groupby(['first_name', 'last_name','genericName']).apply(\n",
        "    lambda r: r[['allowed_amount', 'days_supply']].to_dict(orient='records'))\n",
        "details_df=details.to_frame()\n",
        "details_df.head(5)\n"
      ],
      "execution_count": 249,
      "outputs": [
        {
          "output_type": "execute_result",
          "data": {
            "text/html": [
              "<div>\n",
              "<style scoped>\n",
              "    .dataframe tbody tr th:only-of-type {\n",
              "        vertical-align: middle;\n",
              "    }\n",
              "\n",
              "    .dataframe tbody tr th {\n",
              "        vertical-align: top;\n",
              "    }\n",
              "\n",
              "    .dataframe thead th {\n",
              "        text-align: right;\n",
              "    }\n",
              "</style>\n",
              "<table border=\"1\" class=\"dataframe\">\n",
              "  <thead>\n",
              "    <tr style=\"text-align: right;\">\n",
              "      <th></th>\n",
              "      <th></th>\n",
              "      <th></th>\n",
              "      <th>0</th>\n",
              "    </tr>\n",
              "    <tr>\n",
              "      <th>first_name</th>\n",
              "      <th>last_name</th>\n",
              "      <th>genericName</th>\n",
              "      <th></th>\n",
              "    </tr>\n",
              "  </thead>\n",
              "  <tbody>\n",
              "    <tr>\n",
              "      <th rowspan=\"4\" valign=\"top\">Abe</th>\n",
              "      <th rowspan=\"4\" valign=\"top\">Lincoln</th>\n",
              "      <th>lisinopril</th>\n",
              "      <td>[{'allowed_amount': 10.0, 'days_supply': 90}, ...</td>\n",
              "    </tr>\n",
              "    <tr>\n",
              "      <th>metformin hydrochloride</th>\n",
              "      <td>[{'allowed_amount': 10.0, 'days_supply': 90}, ...</td>\n",
              "    </tr>\n",
              "    <tr>\n",
              "      <th>nitrofurantoin</th>\n",
              "      <td>[{'allowed_amount': 18.27, 'days_supply': 7}, ...</td>\n",
              "    </tr>\n",
              "    <tr>\n",
              "      <th>semaglutide</th>\n",
              "      <td>[{'allowed_amount': 802.32, 'days_supply': 28}...</td>\n",
              "    </tr>\n",
              "    <tr>\n",
              "      <th>Betsy</th>\n",
              "      <th>Ross</th>\n",
              "      <th>insulin glargine</th>\n",
              "      <td>[{'allowed_amount': 79.71, 'days_supply': 30}]</td>\n",
              "    </tr>\n",
              "  </tbody>\n",
              "</table>\n",
              "</div>"
            ],
            "text/plain": [
              "                                                                                              0\n",
              "first_name last_name genericName                                                               \n",
              "Abe        Lincoln   lisinopril               [{'allowed_amount': 10.0, 'days_supply': 90}, ...\n",
              "                     metformin hydrochloride  [{'allowed_amount': 10.0, 'days_supply': 90}, ...\n",
              "                     nitrofurantoin           [{'allowed_amount': 18.27, 'days_supply': 7}, ...\n",
              "                     semaglutide              [{'allowed_amount': 802.32, 'days_supply': 28}...\n",
              "Betsy      Ross      insulin glargine            [{'allowed_amount': 79.71, 'days_supply': 30}]"
            ]
          },
          "metadata": {
            "tags": []
          },
          "execution_count": 249
        }
      ]
    },
    {
      "cell_type": "code",
      "metadata": {
        "id": "-2BNNQGHY2Aq"
      },
      "source": [
        "#The med_summary should be a json with the following properties:\n",
        "#b. There should be a key for each unique generic medication name in the relevant time period\n",
        "#c. Each generic medication name should have two aggregates included in a json: a key, value pair for “allowed_amount” and “days_supply”\n",
        "#i. The allowed_amount should be the total of all the allowed_amount values for the relevant valid claims\n",
        "#ii. The days_supply should also similarly be the total of all the days_supply for the relevant valid claims\n",
        "\n",
        "\n",
        "def json_format(df_details):\n",
        "\n",
        "    person_summary = {\n",
        "              person_summary['card_id']:{**person_summary,'med_summary':{}} \n",
        "              for _,person_summary in df_details.iterrows()\n",
        "              }\n",
        "    for _,row in df_details.iterrows():\n",
        "        person_summary[row['card_id']]['med_summary'][row['genericName']] = {\n",
        "                                                        'days_supply': row['days_supply'],\n",
        "                                                        'allowed_amount': row['allowed_amount']}\n",
        "    person_summary = list(person_summary.values())\n",
        "    # Cleaning up\n",
        "    for attribute in person_summary:\n",
        "        for key in ['ndc9','days_supply','allowed_amount','genericName','sum']:\n",
        "            if key in attribute:\n",
        "                del attribute[key]\n",
        "    return  person_summary\n",
        "\n",
        "\n"
      ],
      "execution_count": 250,
      "outputs": []
    },
    {
      "cell_type": "code",
      "metadata": {
        "id": "zIe2mLRPnv3G"
      },
      "source": [
        "#Step 5: Create a JSON summary file for each patient enrolled on July 1st, 2020 that we have pharmacy data for.\n",
        "\n",
        "#1. Each patient should have their own individual JSON file called ‘patient_<id_number>.json’\n",
        "#2. The json should contain the fields: “first_name”, “last_name” and “med_summary”\n",
        "import json  \n",
        "summry_list=json_format(generic)\n",
        "for idx,element in enumerate (summry_list):\n",
        "  textfile = open(\"patient_ID\"+str(element[\"card_id\"])+\".json\", \"w\")\n",
        "  if \"card_id\" in element:\n",
        "                del element[\"card_id\"]\n",
        "  textfile.write(json.dumps(element, indent = 4) )\n",
        "  textfile.close()\n"
      ],
      "execution_count": 251,
      "outputs": []
    },
    {
      "cell_type": "code",
      "metadata": {
        "colab": {
          "base_uri": "https://localhost:8080/",
          "height": 111
        },
        "id": "5dcjdvjj91k-",
        "outputId": "74fec466-17f3-48cd-99ca-d9c887cbb265"
      },
      "source": [
        "p_no_dup=p_merge_df.drop_duplicates()\n",
        "abe_df=p_no_dup[p_no_dup['card_id'] == 62402817684]\n",
        "tdf.head(2)"
      ],
      "execution_count": 252,
      "outputs": [
        {
          "output_type": "execute_result",
          "data": {
            "text/html": [
              "<div>\n",
              "<style scoped>\n",
              "    .dataframe tbody tr th:only-of-type {\n",
              "        vertical-align: middle;\n",
              "    }\n",
              "\n",
              "    .dataframe tbody tr th {\n",
              "        vertical-align: top;\n",
              "    }\n",
              "\n",
              "    .dataframe thead th {\n",
              "        text-align: right;\n",
              "    }\n",
              "</style>\n",
              "<table border=\"1\" class=\"dataframe\">\n",
              "  <thead>\n",
              "    <tr style=\"text-align: right;\">\n",
              "      <th></th>\n",
              "      <th>ndc9</th>\n",
              "      <th>genericName</th>\n",
              "    </tr>\n",
              "  </thead>\n",
              "  <tbody>\n",
              "    <tr>\n",
              "      <th>51672-4025</th>\n",
              "      <td>516724025</td>\n",
              "      <td>amiodarone hydrochloride</td>\n",
              "    </tr>\n",
              "    <tr>\n",
              "      <th>68382-0773</th>\n",
              "      <td>683820773</td>\n",
              "      <td>ezetimibe</td>\n",
              "    </tr>\n",
              "  </tbody>\n",
              "</table>\n",
              "</div>"
            ],
            "text/plain": [
              "                 ndc9               genericName\n",
              "51672-4025  516724025  amiodarone hydrochloride\n",
              "68382-0773  683820773                 ezetimibe"
            ]
          },
          "metadata": {
            "tags": []
          },
          "execution_count": 252
        }
      ]
    },
    {
      "cell_type": "code",
      "metadata": {
        "colab": {
          "base_uri": "https://localhost:8080/"
        },
        "id": "88x71O-k79ov",
        "outputId": "5f253fe3-2502-45d5-9e32-4b6e9874214a"
      },
      "source": [
        "# Generics for Abe\n",
        "ndc_list=abe_df['ndc9'].tolist()\n",
        "abe_gen_df=tdf[tdf['ndc9'].isin(ndc_list)]\n",
        "abe_gen_df['genericName']\n"
      ],
      "execution_count": 253,
      "outputs": [
        {
          "output_type": "execute_result",
          "data": {
            "text/plain": [
              "68645-0544    metformin hydrochloride\n",
              "47781-0308             nitrofurantoin\n",
              "68645-0550                 lisinopril\n",
              "00169-4132                semaglutide\n",
              "Name: genericName, dtype: object"
            ]
          },
          "metadata": {
            "tags": []
          },
          "execution_count": 253
        }
      ]
    },
    {
      "cell_type": "code",
      "metadata": {
        "colab": {
          "base_uri": "https://localhost:8080/"
        },
        "id": "iGUGyevuGYcN",
        "outputId": "e1c8be47-aad7-43c3-ab39-ef6dd44265fd"
      },
      "source": [
        "#How many unique generic names for the patient Abe Lincoln?\n",
        "len(set(abe_gen_df['genericName']))"
      ],
      "execution_count": 254,
      "outputs": [
        {
          "output_type": "execute_result",
          "data": {
            "text/plain": [
              "4"
            ]
          },
          "metadata": {
            "tags": []
          },
          "execution_count": 254
        }
      ]
    }
  ]
}